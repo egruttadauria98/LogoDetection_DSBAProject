{
 "cells": [
  {
   "cell_type": "code",
   "execution_count": 1,
   "id": "6af74fe0",
   "metadata": {},
   "outputs": [],
   "source": [
    "import matplotlib\n",
    "import matplotlib.pyplot as plt\n",
    "import os\n",
    "import logging\n",
    "import glob\n",
    "\n",
    "import io\n",
    "import scipy.misc\n",
    "import numpy as np\n",
    "from six import BytesIO\n",
    "from PIL import Image, ImageDraw, ImageFont\n",
    "\n",
    "import tensorflow as tf\n",
    "\n",
    "from object_detection.utils import label_map_util\n",
    "from object_detection.utils import config_util\n",
    "from object_detection.utils import visualization_utils as viz_utils\n",
    "from object_detection.builders import model_builder\n",
    "\n",
    "%matplotlib inline"
   ]
  },
  {
   "cell_type": "code",
   "execution_count": 2,
   "id": "8efe0c53",
   "metadata": {},
   "outputs": [],
   "source": [
    "def load_image_into_numpy_array(path):\n",
    "  \"\"\"Load an image from file into a numpy array.\n",
    "\n",
    "  Puts image into numpy array to feed into tensorflow graph.\n",
    "  Note that by convention we put it into a numpy array with shape\n",
    "  (height, width, channels), where channels=3 for RGB.\n",
    "\n",
    "  Args:\n",
    "    path: the file path to the image\n",
    "\n",
    "  Returns:\n",
    "    uint8 numpy array with shape (img_height, img_width, 3)\n",
    "  \"\"\"\n",
    "  img_data = tf.io.gfile.GFile(path, 'rb').read()\n",
    "  image = Image.open(BytesIO(img_data))\n",
    "  (im_width, im_height) = image.size\n",
    "  return np.array(image.getdata()).reshape(\n",
    "      (im_height, im_width, 3)).astype(np.uint8)"
   ]
  },
  {
   "cell_type": "code",
   "execution_count": 3,
   "id": "69c56023",
   "metadata": {},
   "outputs": [
    {
     "name": "stdout",
     "output_type": "stream",
     "text": [
      "\u001b[0m\u001b[34;42mefficientdet-d0\u001b[0m/\r\n"
     ]
    }
   ],
   "source": [
    "%ls '/home/labuser/LogoDet/LogoDetection_DSBAProject/training_process/training/TENSOR_RESULTS'"
   ]
  },
  {
   "cell_type": "code",
   "execution_count": 4,
   "id": "e833027b",
   "metadata": {},
   "outputs": [],
   "source": [
    "model = \"efficientdet-d0\"\n",
    "config = \"config_7\"\n",
    "output_directory = f'/home/labuser/LogoDet/LogoDetection_DSBAProject/training_process/training/FINE_TUNED_MODEL/{model}/{config}'"
   ]
  },
  {
   "cell_type": "code",
   "execution_count": 5,
   "id": "68476ef7",
   "metadata": {},
   "outputs": [
    {
     "name": "stdout",
     "output_type": "stream",
     "text": [
      "[PosixPath('/home/labuser/LogoDet/LogoDetection_DSBAProject/training_process/training/FINE_TUNED_MODEL/efficientdet-d0/config_7/checkpoint/ckpt-0.index')]\n"
     ]
    }
   ],
   "source": [
    "import pathlib\n",
    "\n",
    "filenames = list(pathlib.Path(os.path.join(output_directory,\"checkpoint\")).glob('*.index'))\n",
    "\n",
    "filenames.sort()\n",
    "print(filenames)\n",
    "\n",
    "#recover our saved model\n",
    "pipeline_file = f\"/home/labuser/LogoDet/LogoDetection_DSBAProject/training_process/training/models/research/deploy/{model}/config_7/pipeline_file.config\"\n",
    "pipeline_config = pipeline_file\n",
    "\n",
    "#generally you want to put the last ckpt from training in here\n",
    "model_dir = str(filenames[-1]).replace('.index','')\n",
    "configs = config_util.get_configs_from_pipeline_file(pipeline_config)\n",
    "model_config = configs['model']\n",
    "detection_model = model_builder.build(\n",
    "      model_config=model_config, is_training=False)\n",
    "\n",
    "# Restore checkpoint\n",
    "ckpt = tf.compat.v2.train.Checkpoint(\n",
    "      model=detection_model)\n",
    "ckpt.restore(os.path.join(str(filenames[-1]).replace('.index','')))\n",
    "\n",
    "\n",
    "def get_model_detection_function(model):\n",
    "  \"\"\"Get a tf.function for detection.\"\"\"\n",
    "\n",
    "  @tf.function\n",
    "  def detect_fn(image):\n",
    "    \"\"\"Detect objects in image.\"\"\"\n",
    "\n",
    "    image, shapes = model.preprocess(image)\n",
    "    prediction_dict = model.predict(image, shapes)\n",
    "    detections = model.postprocess(prediction_dict, shapes)\n",
    "    \n",
    "    \n",
    "    return detections, prediction_dict, tf.reshape(shapes, [-1])\n",
    "\n",
    "  return detect_fn\n",
    "\n",
    "detect_fn = get_model_detection_function(detection_model)"
   ]
  },
  {
   "cell_type": "code",
   "execution_count": 6,
   "id": "641bf57d",
   "metadata": {},
   "outputs": [],
   "source": [
    "#map labels for inference decoding\n",
    "label_map_path = configs['eval_input_config'].label_map_path\n",
    "label_map = label_map_util.load_labelmap(label_map_path)\n",
    "categories = label_map_util.convert_label_map_to_categories(\n",
    "    label_map,\n",
    "    max_num_classes=label_map_util.get_max_label_map_index(label_map),\n",
    "    use_display_name=True)\n",
    "category_index = label_map_util.create_category_index(categories)\n",
    "label_map_dict = label_map_util.get_label_map_dict(label_map, use_display_name=True)"
   ]
  },
  {
   "cell_type": "code",
   "execution_count": 7,
   "id": "b7950f25",
   "metadata": {},
   "outputs": [
    {
     "name": "stdout",
     "output_type": "stream",
     "text": [
      "/home/labuser/LogoDet/LogoDetection_DSBAProject/inference\n"
     ]
    }
   ],
   "source": [
    "%cd /home/labuser/LogoDet/LogoDetection_DSBAProject/inference"
   ]
  },
  {
   "cell_type": "code",
   "execution_count": 8,
   "id": "fbd3e85a",
   "metadata": {},
   "outputs": [],
   "source": [
    "if \"INFERENCE_DIR\" not in os.listdir(os.getcwd()):\n",
    "    os.mkdir(output_directory)\n",
    "    logging.info(\"Creating the directory INFERENCE_DIRbecause it did not exist\") \n",
    "else:\n",
    "    logging.info(\"The directory INFERENCE_DIR is already present, files will be stored there\") "
   ]
  },
  {
   "cell_type": "code",
   "execution_count": 9,
   "id": "8b718edd",
   "metadata": {},
   "outputs": [
    {
     "name": "stdout",
     "output_type": "stream",
     "text": [
      "/home/labuser/LogoDet/LogoDetection_DSBAProject/inference/INFERENCE_DIR\n"
     ]
    }
   ],
   "source": [
    "%cd /home/labuser/LogoDet/LogoDetection_DSBAProject/inference/INFERENCE_DIR"
   ]
  },
  {
   "cell_type": "code",
   "execution_count": 12,
   "id": "6be65437",
   "metadata": {},
   "outputs": [
    {
     "name": "stdout",
     "output_type": "stream",
     "text": [
      "/home/labuser/LogoDet/LogoDetection_DSBAProject/inference/INFERENCE_DIR_v2/la_1357350732949111450_20161009_jpg.rf.88234f398f606568c296e9dd1204072c.jpg\n",
      "{'/home/labuser/LogoDet/LogoDetection_DSBAProject/inference/INFERENCE_DIR_v2/la_1357350732949111450_20161009_jpg.rf.88234f398f606568c296e9dd1204072c.jpg': {0: {'label': 8, 'accuracy': 0.5136926, 'prediction': [0.6787775, 0.6797474, 0.8099101, 0.85657126]}}}\n",
      "/home/labuser/LogoDet/LogoDetection_DSBAProject/inference/INFERENCE_DIR_v2/london_1836721383621492519_20180802_jpg.rf.ffaf084b79138435fa466b830bbc9751.jpg\n",
      "{'/home/labuser/LogoDet/LogoDetection_DSBAProject/inference/INFERENCE_DIR_v2/london_1836721383621492519_20180802_jpg.rf.ffaf084b79138435fa466b830bbc9751.jpg': {0: {'label': 8, 'accuracy': 0.5152991, 'prediction': [0.8625742, 0.8827025, 0.968433, 0.9801765]}}}\n",
      "/home/labuser/LogoDet/LogoDetection_DSBAProject/inference/INFERENCE_DIR_v2/la_2017_1590040429369621714_20170826_jpg.rf.7f5ec78f52535d4f7f18888a4a90353c.jpg\n",
      "{'/home/labuser/LogoDet/LogoDetection_DSBAProject/inference/INFERENCE_DIR_v2/la_2017_1590040429369621714_20170826_jpg.rf.7f5ec78f52535d4f7f18888a4a90353c.jpg': {0: {'label': 1, 'accuracy': 0.7039045, 'prediction': [0.43103915, 0.33628485, 0.56220293, 0.4605839]}}}\n",
      "/home/labuser/LogoDet/LogoDetection_DSBAProject/inference/INFERENCE_DIR_v2/chicago_1197263353495283572_20160302_jpg.rf.3d6ae1d4ed75f7dbc5e2a66c59de0f18.jpg\n",
      "/home/labuser/LogoDet/LogoDetection_DSBAProject/inference/INFERENCE_DIR_v2/la_2017_1508955521418572638_20170506_jpg.rf.95a748b97165f1d4cace54997b5c1f72.jpg\n",
      "/home/labuser/LogoDet/LogoDetection_DSBAProject/inference/INFERENCE_DIR_v2/houston_1518388250565471569_20170519_jpg.rf.8f40cab41317ec01de50eb661400e6b5.jpg\n",
      "/home/labuser/LogoDet/LogoDetection_DSBAProject/inference/INFERENCE_DIR_v2/miami_1352759901805537870_20161003_jpg.rf.abc7f8a76bb88251e51e11f9ea91ed35.jpg\n",
      "{'/home/labuser/LogoDet/LogoDetection_DSBAProject/inference/INFERENCE_DIR_v2/miami_1352759901805537870_20161003_jpg.rf.abc7f8a76bb88251e51e11f9ea91ed35.jpg': {0: {'label': 1, 'accuracy': 0.563956, 'prediction': [0.74886966, 0.22849894, 0.85713065, 0.34960604]}}}\n",
      "/home/labuser/LogoDet/LogoDetection_DSBAProject/inference/INFERENCE_DIR_v2/chicago_1155412837551448225_20160105_jpg.rf.9f738a94b0b9b926fb122633d2577214.jpg\n",
      "{'/home/labuser/LogoDet/LogoDetection_DSBAProject/inference/INFERENCE_DIR_v2/chicago_1155412837551448225_20160105_jpg.rf.9f738a94b0b9b926fb122633d2577214.jpg': {0: {'label': 7, 'accuracy': 0.5556245, 'prediction': [0.54922575, 0.45020074, 0.637685, 0.5235448]}}}\n",
      "/home/labuser/LogoDet/LogoDetection_DSBAProject/inference/INFERENCE_DIR_v2/phoenix_1706651439746948616_20180203_jpg.rf.4f0b9edbcb2f9a491e5ab9349f7b46a4.jpg\n",
      "/home/labuser/LogoDet/LogoDetection_DSBAProject/inference/INFERENCE_DIR_v2/phoenix_1873658320485995676_20180922_jpg.rf.284442de171277e75f286419b2655b16.jpg\n"
     ]
    },
    {
     "ename": "KeyboardInterrupt",
     "evalue": "",
     "output_type": "error",
     "traceback": [
      "\u001b[0;31m---------------------------------------------------------------------------\u001b[0m",
      "\u001b[0;31mKeyboardInterrupt\u001b[0m                         Traceback (most recent call last)",
      "\u001b[0;32m<ipython-input-12-653734c3dcd4>\u001b[0m in \u001b[0;36m<module>\u001b[0;34m\u001b[0m\n\u001b[1;32m     11\u001b[0m     \u001b[0mprint\u001b[0m\u001b[0;34m(\u001b[0m\u001b[0mimage\u001b[0m\u001b[0;34m)\u001b[0m\u001b[0;34m\u001b[0m\u001b[0;34m\u001b[0m\u001b[0m\n\u001b[1;32m     12\u001b[0m     \u001b[0;31m#image_path = \"/home/labuser/LogoDet/LogoDetection_DSBAProject/training_process/training/INFERENCE_DIR/NFLogo1.jpg\"\u001b[0m\u001b[0;34m\u001b[0m\u001b[0;34m\u001b[0m\u001b[0;34m\u001b[0m\u001b[0m\n\u001b[0;32m---> 13\u001b[0;31m     \u001b[0mimage_np\u001b[0m \u001b[0;34m=\u001b[0m \u001b[0mload_image_into_numpy_array\u001b[0m\u001b[0;34m(\u001b[0m\u001b[0mimage_path\u001b[0m\u001b[0;34m)\u001b[0m\u001b[0;34m\u001b[0m\u001b[0;34m\u001b[0m\u001b[0m\n\u001b[0m\u001b[1;32m     14\u001b[0m \u001b[0;34m\u001b[0m\u001b[0m\n\u001b[1;32m     15\u001b[0m     input_tensor = tf.convert_to_tensor(\n",
      "\u001b[0;32m<ipython-input-2-2841af899c5f>\u001b[0m in \u001b[0;36mload_image_into_numpy_array\u001b[0;34m(path)\u001b[0m\n\u001b[1;32m     15\u001b[0m   \u001b[0mimage\u001b[0m \u001b[0;34m=\u001b[0m \u001b[0mImage\u001b[0m\u001b[0;34m.\u001b[0m\u001b[0mopen\u001b[0m\u001b[0;34m(\u001b[0m\u001b[0mBytesIO\u001b[0m\u001b[0;34m(\u001b[0m\u001b[0mimg_data\u001b[0m\u001b[0;34m)\u001b[0m\u001b[0;34m)\u001b[0m\u001b[0;34m\u001b[0m\u001b[0;34m\u001b[0m\u001b[0m\n\u001b[1;32m     16\u001b[0m   \u001b[0;34m(\u001b[0m\u001b[0mim_width\u001b[0m\u001b[0;34m,\u001b[0m \u001b[0mim_height\u001b[0m\u001b[0;34m)\u001b[0m \u001b[0;34m=\u001b[0m \u001b[0mimage\u001b[0m\u001b[0;34m.\u001b[0m\u001b[0msize\u001b[0m\u001b[0;34m\u001b[0m\u001b[0;34m\u001b[0m\u001b[0m\n\u001b[0;32m---> 17\u001b[0;31m   return np.array(image.getdata()).reshape(\n\u001b[0m\u001b[1;32m     18\u001b[0m       (im_height, im_width, 3)).astype(np.uint8)\n",
      "\u001b[0;31mKeyboardInterrupt\u001b[0m: "
     ]
    }
   ],
   "source": [
    "#run detector on test image\n",
    "#it takes a little longer on the first run and then runs at normal speed. \n",
    "import random\n",
    "from build_csv import build_predicion_CSV\n",
    "\n",
    "TEST_IMAGE_PATHS = glob.glob('/home/labuser/LogoDet/LogoDetection_DSBAProject/inference/INFERENCE_DIR_v2/*.jpg')\n",
    "\n",
    "counter = 0\n",
    "for image in TEST_IMAGE_PATHS[:500]:\n",
    "    image_path = image\n",
    "    print(image)\n",
    "    #image_path = \"/home/labuser/LogoDet/LogoDetection_DSBAProject/training_process/training/INFERENCE_DIR/NFLogo1.jpg\"\n",
    "    image_np = load_image_into_numpy_array(image_path)\n",
    "\n",
    "    input_tensor = tf.convert_to_tensor(\n",
    "        np.expand_dims(image_np, 0), dtype=tf.float32)\n",
    "    detections, predictions_dict, shapes = detect_fn(input_tensor)\n",
    "    label_id_offset = 1\n",
    "    image_np_with_detections = image_np.copy()\n",
    "    threshold = 0.4\n",
    "    \n",
    "#    viz_utils.visualize_boxes_and_labels_on_image_array(\n",
    "#                  image_np_with_detections,\n",
    "#                  detections['detection_boxes'][0].numpy(),\n",
    "#                  (detections['detection_classes'][0].numpy() + label_id_offset).astype(int),\n",
    "#                  detections['detection_scores'][0].numpy(),\n",
    "#                  category_index,\n",
    "#                  use_normalized_coordinates=True, # Needs to be true cause otherwise boxes go out of range\n",
    "#                  max_boxes_to_draw=3, # Minimized to 10 because otherwise we might have troubles \n",
    "#                  min_score_thresh=threshold, # Minimized the score, as for now it seems to be too confident over Adidas\n",
    "#                  agnostic_mode=False)\n",
    "    \n",
    "    build_predicion_CSV(threshold=threshold, name_image=image,counter = counter, detections= detections,category=category_index)\n",
    "    counter = counter + 1\n",
    "\n",
    "#    plt.figure(figsize=(12,16))\n",
    "#    plt.imshow(image_np_with_detections)\n",
    "#    plt.show()\n",
    "    "
   ]
  },
  {
   "cell_type": "code",
   "execution_count": null,
   "id": "6621e968",
   "metadata": {},
   "outputs": [],
   "source": []
  },
  {
   "cell_type": "code",
   "execution_count": null,
   "id": "7b851fbc",
   "metadata": {},
   "outputs": [],
   "source": []
  }
 ],
 "metadata": {
  "kernelspec": {
   "display_name": "Python 3",
   "language": "python",
   "name": "python3"
  },
  "language_info": {
   "codemirror_mode": {
    "name": "ipython",
    "version": 3
   },
   "file_extension": ".py",
   "mimetype": "text/x-python",
   "name": "python",
   "nbconvert_exporter": "python",
   "pygments_lexer": "ipython3",
   "version": "3.8.10"
  }
 },
 "nbformat": 4,
 "nbformat_minor": 5
}
