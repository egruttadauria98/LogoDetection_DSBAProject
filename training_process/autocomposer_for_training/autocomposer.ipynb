{
 "cells": [
  {
   "cell_type": "code",
   "execution_count": 1,
   "source": [
    "import pandas as pd\r\n",
    "import tarfile\r\n",
    "import os\r\n",
    "import shutil"
   ],
   "outputs": [],
   "metadata": {}
  },
  {
   "cell_type": "markdown",
   "source": [
    "Unzip tar file containing the data"
   ],
   "metadata": {}
  },
  {
   "cell_type": "code",
   "execution_count": 2,
   "source": [
    "fname = \"DLCV_logo_project.tar.gz\"\r\n",
    "destination_dir = \"./\"\r\n",
    "\r\n",
    "tar = tarfile.open(fname)\r\n",
    "tar.extractall(destination_dir)\r\n",
    "tar.close()"
   ],
   "outputs": [],
   "metadata": {}
  },
  {
   "cell_type": "markdown",
   "source": [
    "Import annotations"
   ],
   "metadata": {}
  },
  {
   "cell_type": "code",
   "execution_count": 3,
   "source": [
    "seed = 12\r\n",
    "df = pd.read_csv(\"./DLCV_logo_project/annot_train.csv\")\r\n",
    "df = df.sample(frac=1, random_state=seed)"
   ],
   "outputs": [],
   "metadata": {}
  },
  {
   "cell_type": "markdown",
   "source": [
    "Extract annotations of the 5 compulsory logos"
   ],
   "metadata": {}
  },
  {
   "cell_type": "code",
   "execution_count": 4,
   "source": [
    "comp_df = df.copy()\r\n",
    "comp_df.head()"
   ],
   "outputs": [
    {
     "output_type": "execute_result",
     "data": {
      "text/html": [
       "<div>\n",
       "<style scoped>\n",
       "    .dataframe tbody tr th:only-of-type {\n",
       "        vertical-align: middle;\n",
       "    }\n",
       "\n",
       "    .dataframe tbody tr th {\n",
       "        vertical-align: top;\n",
       "    }\n",
       "\n",
       "    .dataframe thead th {\n",
       "        text-align: right;\n",
       "    }\n",
       "</style>\n",
       "<table border=\"1\" class=\"dataframe\">\n",
       "  <thead>\n",
       "    <tr style=\"text-align: right;\">\n",
       "      <th></th>\n",
       "      <th>photo_filename</th>\n",
       "      <th>width</th>\n",
       "      <th>height</th>\n",
       "      <th>class</th>\n",
       "      <th>xmin</th>\n",
       "      <th>ymin</th>\n",
       "      <th>xmax</th>\n",
       "      <th>ymax</th>\n",
       "    </tr>\n",
       "  </thead>\n",
       "  <tbody>\n",
       "    <tr>\n",
       "      <th>41717</th>\n",
       "      <td>houston_1715220490095162382_20180215.jpg</td>\n",
       "      <td>1080</td>\n",
       "      <td>1080</td>\n",
       "      <td>Chanel</td>\n",
       "      <td>602</td>\n",
       "      <td>144</td>\n",
       "      <td>975</td>\n",
       "      <td>399</td>\n",
       "    </tr>\n",
       "    <tr>\n",
       "      <th>36371</th>\n",
       "      <td>phoenix_1798704855302061580_20180610.jpg</td>\n",
       "      <td>1080</td>\n",
       "      <td>720</td>\n",
       "      <td>Mercedes-Benz</td>\n",
       "      <td>510</td>\n",
       "      <td>379</td>\n",
       "      <td>568</td>\n",
       "      <td>439</td>\n",
       "    </tr>\n",
       "    <tr>\n",
       "      <th>21356</th>\n",
       "      <td>la_1229762905742294064_20160416.jpg</td>\n",
       "      <td>1080</td>\n",
       "      <td>1349</td>\n",
       "      <td>Under Armour</td>\n",
       "      <td>647</td>\n",
       "      <td>784</td>\n",
       "      <td>755</td>\n",
       "      <td>930</td>\n",
       "    </tr>\n",
       "    <tr>\n",
       "      <th>35719</th>\n",
       "      <td>miami_1267757845559437345_20160608.jpg</td>\n",
       "      <td>1080</td>\n",
       "      <td>809</td>\n",
       "      <td>Mercedes-Benz</td>\n",
       "      <td>903</td>\n",
       "      <td>379</td>\n",
       "      <td>971</td>\n",
       "      <td>448</td>\n",
       "    </tr>\n",
       "    <tr>\n",
       "      <th>44000</th>\n",
       "      <td>houston_1453054272111782394_20170218.jpg</td>\n",
       "      <td>480</td>\n",
       "      <td>480</td>\n",
       "      <td>Intimissimi</td>\n",
       "      <td>27</td>\n",
       "      <td>29</td>\n",
       "      <td>314</td>\n",
       "      <td>329</td>\n",
       "    </tr>\n",
       "  </tbody>\n",
       "</table>\n",
       "</div>"
      ],
      "text/plain": [
       "                                 photo_filename  width  height          class  \\\n",
       "41717  houston_1715220490095162382_20180215.jpg   1080    1080         Chanel   \n",
       "36371  phoenix_1798704855302061580_20180610.jpg   1080     720  Mercedes-Benz   \n",
       "21356       la_1229762905742294064_20160416.jpg   1080    1349   Under Armour   \n",
       "35719    miami_1267757845559437345_20160608.jpg   1080     809  Mercedes-Benz   \n",
       "44000  houston_1453054272111782394_20170218.jpg    480     480    Intimissimi   \n",
       "\n",
       "       xmin  ymin  xmax  ymax  \n",
       "41717   602   144   975   399  \n",
       "36371   510   379   568   439  \n",
       "21356   647   784   755   930  \n",
       "35719   903   379   971   448  \n",
       "44000    27    29   314   329  "
      ]
     },
     "metadata": {},
     "execution_count": 4
    }
   ],
   "metadata": {}
  },
  {
   "cell_type": "markdown",
   "source": [
    "Remove space and special characters from logo names"
   ],
   "metadata": {}
  },
  {
   "cell_type": "code",
   "execution_count": 5,
   "source": [
    "comp_df[\"class\"] = comp_df[\"class\"].apply(lambda x: ''.join(char for char in x if char.isalnum()))\r\n",
    "comp_df"
   ],
   "outputs": [
    {
     "output_type": "execute_result",
     "data": {
      "text/html": [
       "<div>\n",
       "<style scoped>\n",
       "    .dataframe tbody tr th:only-of-type {\n",
       "        vertical-align: middle;\n",
       "    }\n",
       "\n",
       "    .dataframe tbody tr th {\n",
       "        vertical-align: top;\n",
       "    }\n",
       "\n",
       "    .dataframe thead th {\n",
       "        text-align: right;\n",
       "    }\n",
       "</style>\n",
       "<table border=\"1\" class=\"dataframe\">\n",
       "  <thead>\n",
       "    <tr style=\"text-align: right;\">\n",
       "      <th></th>\n",
       "      <th>photo_filename</th>\n",
       "      <th>width</th>\n",
       "      <th>height</th>\n",
       "      <th>class</th>\n",
       "      <th>xmin</th>\n",
       "      <th>ymin</th>\n",
       "      <th>xmax</th>\n",
       "      <th>ymax</th>\n",
       "    </tr>\n",
       "  </thead>\n",
       "  <tbody>\n",
       "    <tr>\n",
       "      <th>41717</th>\n",
       "      <td>houston_1715220490095162382_20180215.jpg</td>\n",
       "      <td>1080</td>\n",
       "      <td>1080</td>\n",
       "      <td>Chanel</td>\n",
       "      <td>602</td>\n",
       "      <td>144</td>\n",
       "      <td>975</td>\n",
       "      <td>399</td>\n",
       "    </tr>\n",
       "    <tr>\n",
       "      <th>36371</th>\n",
       "      <td>phoenix_1798704855302061580_20180610.jpg</td>\n",
       "      <td>1080</td>\n",
       "      <td>720</td>\n",
       "      <td>MercedesBenz</td>\n",
       "      <td>510</td>\n",
       "      <td>379</td>\n",
       "      <td>568</td>\n",
       "      <td>439</td>\n",
       "    </tr>\n",
       "    <tr>\n",
       "      <th>21356</th>\n",
       "      <td>la_1229762905742294064_20160416.jpg</td>\n",
       "      <td>1080</td>\n",
       "      <td>1349</td>\n",
       "      <td>UnderArmour</td>\n",
       "      <td>647</td>\n",
       "      <td>784</td>\n",
       "      <td>755</td>\n",
       "      <td>930</td>\n",
       "    </tr>\n",
       "    <tr>\n",
       "      <th>35719</th>\n",
       "      <td>miami_1267757845559437345_20160608.jpg</td>\n",
       "      <td>1080</td>\n",
       "      <td>809</td>\n",
       "      <td>MercedesBenz</td>\n",
       "      <td>903</td>\n",
       "      <td>379</td>\n",
       "      <td>971</td>\n",
       "      <td>448</td>\n",
       "    </tr>\n",
       "    <tr>\n",
       "      <th>44000</th>\n",
       "      <td>houston_1453054272111782394_20170218.jpg</td>\n",
       "      <td>480</td>\n",
       "      <td>480</td>\n",
       "      <td>Intimissimi</td>\n",
       "      <td>27</td>\n",
       "      <td>29</td>\n",
       "      <td>314</td>\n",
       "      <td>329</td>\n",
       "    </tr>\n",
       "    <tr>\n",
       "      <th>...</th>\n",
       "      <td>...</td>\n",
       "      <td>...</td>\n",
       "      <td>...</td>\n",
       "      <td>...</td>\n",
       "      <td>...</td>\n",
       "      <td>...</td>\n",
       "      <td>...</td>\n",
       "      <td>...</td>\n",
       "    </tr>\n",
       "    <tr>\n",
       "      <th>36482</th>\n",
       "      <td>sf_1488603129770522889_20170408.jpg</td>\n",
       "      <td>1080</td>\n",
       "      <td>781</td>\n",
       "      <td>MercedesBenz</td>\n",
       "      <td>350</td>\n",
       "      <td>307</td>\n",
       "      <td>482</td>\n",
       "      <td>459</td>\n",
       "    </tr>\n",
       "    <tr>\n",
       "      <th>40177</th>\n",
       "      <td>chicago_1277616105368141391_20160621.jpg</td>\n",
       "      <td>1080</td>\n",
       "      <td>718</td>\n",
       "      <td>CocaCola</td>\n",
       "      <td>101</td>\n",
       "      <td>251</td>\n",
       "      <td>176</td>\n",
       "      <td>295</td>\n",
       "    </tr>\n",
       "    <tr>\n",
       "      <th>19709</th>\n",
       "      <td>sf_1347260241088062451_20160925.jpg</td>\n",
       "      <td>1080</td>\n",
       "      <td>1080</td>\n",
       "      <td>Adidas</td>\n",
       "      <td>360</td>\n",
       "      <td>90</td>\n",
       "      <td>436</td>\n",
       "      <td>152</td>\n",
       "    </tr>\n",
       "    <tr>\n",
       "      <th>38555</th>\n",
       "      <td>phoenix_1804075524908051981_20180618.jpg</td>\n",
       "      <td>1080</td>\n",
       "      <td>1350</td>\n",
       "      <td>NFL</td>\n",
       "      <td>655</td>\n",
       "      <td>779</td>\n",
       "      <td>728</td>\n",
       "      <td>867</td>\n",
       "    </tr>\n",
       "    <tr>\n",
       "      <th>14155</th>\n",
       "      <td>houston_1780943829228930018_20180517.jpg</td>\n",
       "      <td>1080</td>\n",
       "      <td>1080</td>\n",
       "      <td>Adidas</td>\n",
       "      <td>77</td>\n",
       "      <td>444</td>\n",
       "      <td>148</td>\n",
       "      <td>499</td>\n",
       "    </tr>\n",
       "  </tbody>\n",
       "</table>\n",
       "<p>46163 rows × 8 columns</p>\n",
       "</div>"
      ],
      "text/plain": [
       "                                 photo_filename  width  height         class  \\\n",
       "41717  houston_1715220490095162382_20180215.jpg   1080    1080        Chanel   \n",
       "36371  phoenix_1798704855302061580_20180610.jpg   1080     720  MercedesBenz   \n",
       "21356       la_1229762905742294064_20160416.jpg   1080    1349   UnderArmour   \n",
       "35719    miami_1267757845559437345_20160608.jpg   1080     809  MercedesBenz   \n",
       "44000  houston_1453054272111782394_20170218.jpg    480     480   Intimissimi   \n",
       "...                                         ...    ...     ...           ...   \n",
       "36482       sf_1488603129770522889_20170408.jpg   1080     781  MercedesBenz   \n",
       "40177  chicago_1277616105368141391_20160621.jpg   1080     718      CocaCola   \n",
       "19709       sf_1347260241088062451_20160925.jpg   1080    1080        Adidas   \n",
       "38555  phoenix_1804075524908051981_20180618.jpg   1080    1350           NFL   \n",
       "14155  houston_1780943829228930018_20180517.jpg   1080    1080        Adidas   \n",
       "\n",
       "       xmin  ymin  xmax  ymax  \n",
       "41717   602   144   975   399  \n",
       "36371   510   379   568   439  \n",
       "21356   647   784   755   930  \n",
       "35719   903   379   971   448  \n",
       "44000    27    29   314   329  \n",
       "...     ...   ...   ...   ...  \n",
       "36482   350   307   482   459  \n",
       "40177   101   251   176   295  \n",
       "19709   360    90   436   152  \n",
       "38555   655   779   728   867  \n",
       "14155    77   444   148   499  \n",
       "\n",
       "[46163 rows x 8 columns]"
      ]
     },
     "metadata": {},
     "execution_count": 5
    }
   ],
   "metadata": {}
  },
  {
   "cell_type": "markdown",
   "source": [
    "Store the new dataframe into a csv. We need to store it into a new csv because we are removing the spaces between df classes names."
   ],
   "metadata": {}
  },
  {
   "cell_type": "markdown",
   "source": [
    "Create folder storing data "
   ],
   "metadata": {}
  },
  {
   "cell_type": "code",
   "execution_count": 6,
   "source": [
    "path = \"./data\"\r\n",
    "\r\n",
    "try:\r\n",
    "    os.mkdir(path)\r\n",
    "except:\r\n",
    "    pass"
   ],
   "outputs": [],
   "metadata": {}
  },
  {
   "cell_type": "code",
   "execution_count": 13,
   "source": [
    "comp_df.to_csv(\"./data/annotation_train_without_spaces_v1.csv\", index=False)"
   ],
   "outputs": [],
   "metadata": {}
  },
  {
   "cell_type": "markdown",
   "source": [
    "Create a folder containing the training images of compulsory logos only"
   ],
   "metadata": {}
  },
  {
   "cell_type": "code",
   "execution_count": 7,
   "source": [
    "dest_folder = \"./data/train\"\r\n",
    "source_folder = \"./DLCV_logo_project/train/\"\r\n",
    "\r\n",
    "try:\r\n",
    "    os.mkdir(dest_folder)\r\n",
    "except:\r\n",
    "    pass\r\n",
    "\r\n",
    "filenames = comp_df[\"photo_filename\"].values\r\n",
    "\r\n",
    "for f in filenames:\r\n",
    "    try:\r\n",
    "        shutil.copy(source_folder + f, dest_folder)\r\n",
    "    except:\r\n",
    "        pass"
   ],
   "outputs": [],
   "metadata": {}
  },
  {
   "cell_type": "code",
   "execution_count": 8,
   "source": [
    "n_files = len([f for f in os.listdir(dest_folder)])\r\n",
    "print(f\"Train folder contains {n_files} images.\")"
   ],
   "outputs": [
    {
     "output_type": "stream",
     "name": "stdout",
     "text": [
      "Train folder contains 38913 images.\n"
     ]
    }
   ],
   "metadata": {}
  },
  {
   "cell_type": "markdown",
   "source": [
    "Split training images into 5 subfolders to perform annotations on Roboflow"
   ],
   "metadata": {}
  },
  {
   "cell_type": "code",
   "execution_count": 9,
   "source": [
    "# Create dictionary containing subfolder names as keys and a list of files as value\r\n",
    "subfolders = [\"Reb\", \"Elio\", \"Eline\", \"AleL\", \"AleC\"]\r\n",
    "subfolders_dict = {}\r\n",
    "subfolder_size = int(len(comp_df) * 0.2)\r\n",
    "temp_df = comp_df.copy()\r\n",
    "\r\n",
    "for s in subfolders[:-1]:\r\n",
    "    subfolder_pics = temp_df.sample(n=subfolder_size, random_state=seed)[\"photo_filename\"].values\r\n",
    "    subfolders_dict[s] = subfolder_pics\r\n",
    "    temp_df = temp_df[~(temp_df[\"photo_filename\"].isin(subfolder_pics))]\r\n",
    "\r\n",
    "subfolders_dict[subfolders[-1]] = temp_df[\"photo_filename\"].values"
   ],
   "outputs": [],
   "metadata": {}
  },
  {
   "cell_type": "code",
   "execution_count": 10,
   "source": [
    "# Create subfolders directory\r\n",
    "try:\r\n",
    "    os.mkdir(\"./data/subfolders\")\r\n",
    "except:\r\n",
    "    pass"
   ],
   "outputs": [],
   "metadata": {}
  },
  {
   "cell_type": "code",
   "execution_count": 11,
   "source": [
    "# For each key in the subfolders dictionary\r\n",
    "source_folder = \"./data/train/\"\r\n",
    "for folder_name, filenames in subfolders_dict.items():\r\n",
    "    # 1. Create subfolder corresponding to the key\r\n",
    "    dest_folder = \"./data/subfolders/\" + folder_name\r\n",
    "    try:\r\n",
    "        os.mkdir(dest_folder)\r\n",
    "    except:\r\n",
    "        pass\r\n",
    "    # 2. Copy files contained in the dictionary value corresponding to that key to the subfolder\r\n",
    "    for f in filenames:\r\n",
    "        try:\r\n",
    "            shutil.copy(source_folder + f, dest_folder)\r\n",
    "        except:\r\n",
    "            pass\r\n"
   ],
   "outputs": [],
   "metadata": {}
  },
  {
   "cell_type": "markdown",
   "source": [
    "Zip the subfolders directory"
   ],
   "metadata": {}
  },
  {
   "cell_type": "code",
   "execution_count": 12,
   "source": [
    "#shutil.make_archive(\"./subfolders\", \"zip\", \"./data/subfolders\")"
   ],
   "outputs": [
    {
     "output_type": "execute_result",
     "data": {
      "text/plain": [
       "'c:\\\\Users\\\\rebec\\\\Documents\\\\GitHub\\\\ObjectRecognition\\\\LogoDetection_DSBAProject\\\\training_process\\\\autocomposer_for_training\\\\subfolders.zip'"
      ]
     },
     "metadata": {},
     "execution_count": 12
    }
   ],
   "metadata": {}
  }
 ],
 "metadata": {
  "interpreter": {
   "hash": "40a8aae49d8ead891f177a9aa92f4d86d5628cb1b4814a86ede39a8e1ef554b8"
  },
  "kernelspec": {
   "name": "python3",
   "display_name": "Python 3.8.5 64-bit ('base': conda)"
  },
  "language_info": {
   "codemirror_mode": {
    "name": "ipython",
    "version": 3
   },
   "file_extension": ".py",
   "mimetype": "text/x-python",
   "name": "python",
   "nbconvert_exporter": "python",
   "pygments_lexer": "ipython3",
   "version": "3.8.5"
  },
  "orig_nbformat": 4
 },
 "nbformat": 4,
 "nbformat_minor": 2
}